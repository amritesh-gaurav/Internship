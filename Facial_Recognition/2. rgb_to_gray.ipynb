{
 "cells": [
  {
   "cell_type": "code",
   "execution_count": null,
   "metadata": {},
   "outputs": [],
   "source": [
    "from skimage import io\n",
    "import cv2\n",
    "import os\n",
    "\n",
    "imgFormat = \".jpg\"\n",
    "fullimgpath = \"E:/Jupyter/Internship/Images for Facial Recognition/D&C/\"\n",
    "imfilelist = [os.path.join(fullimgpath, f) for f in os.listdir(fullimgpath) if f.endswith(imgFormat)]\n",
    "\n",
    "for el in imfilelist:\n",
    "    print(el.split(\"/\")[-1])\n",
    "    imageName = cv2.imread(el)\n",
    "    im = cv2.cvtColor(imageName, cv2.COLOR_BGR2GRAY)\n",
    "    cv2.imwrite(\"E:/Jupyter/Internship/Images for Facial Recognition/D&C/Gray/\"+el.split(\"/\")[-1], im)"
   ]
  }
 ],
 "metadata": {
  "kernelspec": {
   "display_name": "Python 3.10.5 64-bit",
   "language": "python",
   "name": "python3"
  },
  "language_info": {
   "codemirror_mode": {
    "name": "ipython",
    "version": 3
   },
   "file_extension": ".py",
   "mimetype": "text/x-python",
   "name": "python",
   "nbconvert_exporter": "python",
   "pygments_lexer": "ipython3",
   "version": "3.10.5"
  },
  "orig_nbformat": 4,
  "vscode": {
   "interpreter": {
    "hash": "0831c9a8f38bf0534c50bfaa0f7ad63ee7d3a6b807ce61f39252cf011aaed1cf"
   }
  }
 },
 "nbformat": 4,
 "nbformat_minor": 2
}
