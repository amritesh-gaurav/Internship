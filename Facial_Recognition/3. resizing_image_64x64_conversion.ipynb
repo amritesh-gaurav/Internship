{
 "cells": [
  {
   "cell_type": "code",
   "execution_count": null,
   "metadata": {},
   "outputs": [],
   "source": [
    "import os\n",
    "from PIL import Image\n",
    "\n",
    "imgFormat = \".JPG\"\n",
    "fullimgpath = \"E:/D&C/\"\n",
    "finalimgpath = \"E:/D&C/Images/\"\n",
    "imfilelist = [os.path.join(fullimgpath, f) for f in os.listdir(fullimgpath) if f.endswith(imgFormat)]\n",
    "\n",
    "## Read the input image\n",
    "for el in imfilelist:\n",
    "    print(el.split(\"/\")[-1])\n",
    "    imageName = Image.open(el)\n",
    "    w = 64\n",
    "    h = 64\n",
    "    imageName = imageName.resize((w,h), Image.ANTIALIAS)\n",
    "    imageName.save(finalimgpath + el.split(\"/\")[-1])"
   ]
  }
 ],
 "metadata": {
  "kernelspec": {
   "display_name": "Python 3.10.5 64-bit",
   "language": "python",
   "name": "python3"
  },
  "language_info": {
   "codemirror_mode": {
    "name": "ipython",
    "version": 3
   },
   "file_extension": ".py",
   "mimetype": "text/x-python",
   "name": "python",
   "nbconvert_exporter": "python",
   "pygments_lexer": "ipython3",
   "version": "3.10.5"
  },
  "orig_nbformat": 4,
  "vscode": {
   "interpreter": {
    "hash": "0831c9a8f38bf0534c50bfaa0f7ad63ee7d3a6b807ce61f39252cf011aaed1cf"
   }
  }
 },
 "nbformat": 4,
 "nbformat_minor": 2
}
