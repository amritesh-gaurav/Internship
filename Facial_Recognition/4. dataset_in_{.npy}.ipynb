{
 "cells": [
  {
   "cell_type": "code",
   "execution_count": null,
   "metadata": {},
   "outputs": [],
   "source": [
    "from PIL import Image\n",
    "import os, sys\n",
    "import cv2\n",
    "import numpy as np\n",
    "\n",
    "'''\n",
    "Converts all images in a directory to '.npy' format.\n",
    "Use np.save and np.load to save and load the images.\n",
    "Use it for training your neural networks in ML/DL projects. \n",
    "'''\n",
    "\n",
    "# Path to image directory\n",
    "path = \"E:/D&C/\"\n",
    "dirs = os.listdir( path )\n",
    "dirs.sort()\n",
    "x_train=[]\n",
    "\n",
    "def load_dataset():\n",
    "    # Append images to a list\n",
    "    for item in dirs:\n",
    "        if os.path.isfile(path+item):\n",
    "            im = Image.open(path+item)\n",
    "            im = np.array(im)\n",
    "            im = np.true_divide(im,[255.0],out=None)\n",
    "            x_train.append(im)\n",
    "\n",
    "if __name__ == \"__main__\":\n",
    "    \n",
    "    load_dataset()\n",
    "    \n",
    "    # Convert and save the list of images in '.npy' format\n",
    "    imgset=np.array(x_train)\n",
    "    np.save(\"coe_faces.npy\",imgset)"
   ]
  },
  {
   "cell_type": "code",
   "execution_count": null,
   "metadata": {},
   "outputs": [],
   "source": [
    "import numpy as np\n",
    "t = np.load('coe_faces.npy')\n",
    "print(t)"
   ]
  }
 ],
 "metadata": {
  "kernelspec": {
   "display_name": "Python 3.10.5 64-bit",
   "language": "python",
   "name": "python3"
  },
  "language_info": {
   "codemirror_mode": {
    "name": "ipython",
    "version": 3
   },
   "file_extension": ".py",
   "mimetype": "text/x-python",
   "name": "python",
   "nbconvert_exporter": "python",
   "pygments_lexer": "ipython3",
   "version": "3.10.5"
  },
  "orig_nbformat": 4,
  "vscode": {
   "interpreter": {
    "hash": "0831c9a8f38bf0534c50bfaa0f7ad63ee7d3a6b807ce61f39252cf011aaed1cf"
   }
  }
 },
 "nbformat": 4,
 "nbformat_minor": 2
}
