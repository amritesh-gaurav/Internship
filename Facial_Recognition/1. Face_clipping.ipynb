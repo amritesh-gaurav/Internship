{
 "cells": [
  {
   "cell_type": "code",
   "execution_count": 1,
   "metadata": {},
   "outputs": [],
   "source": [
    "import cv2\n",
    "import os\n",
    "from mtcnn import MTCNN\n",
    "\n",
    "# Load the cascade\n",
    "# face_cascade = cv2.CascadeClassifier('E:/Images/haarcascade_frontalface_default.xml')\n",
    "detector = MTCNN() # Using MTCNN to clip faces instead of Haarcascade\n",
    "\n",
    "imgFormat = \".jpg\"\n",
    "fullimgpath = \"E:/Previous_dataset/\"\n",
    "faceimgpath = \"E:/Previous_dataset/\"\n",
    "imfilelist = [os.path.join(fullimgpath, f) for f in os.listdir(fullimgpath) if f.endswith(imgFormat)]"
   ]
  },
  {
   "cell_type": "code",
   "execution_count": 2,
   "metadata": {},
   "outputs": [],
   "source": [
    "## Read the input image\n",
    "for el in imfilelist:\n",
    "    print(el.split(\"/\")[-1])\n",
    "    imageName = cv2.imread(el)\n",
    "\n",
    "    # Convert into grayscale\n",
    "    # gray = cv2.cvtColor(imageName, cv2.COLOR_BGR2GRAY)\n",
    "\n",
    "    ## Detect faces\n",
    "    # faces = face_cascade.detectMultiScale(gray, 1.1, 4)\n",
    "    output = detector.detect_faces(imageName)\n",
    "\n",
    "    ## Draw rectangle around the faces and crop the faces\n",
    "    for i in output:\n",
    "        x,y,w,h = i['box']\n",
    "        #cv2.rectangle(imageName, (x, y), (x+w, y+h), (0, 0, 255), 2)\n",
    "        faces = imageName[y:y + h, x:x + w]\n",
    "        #cv2.imshow(\"face\",faces)\n",
    "        cv2.imwrite('E:/Previous_dataset/'+el.split(\"/\")[-1], faces)"
   ]
  }
 ],
 "metadata": {
  "kernelspec": {
   "display_name": "Python 3.10.5 64-bit",
   "language": "python",
   "name": "python3"
  },
  "language_info": {
   "codemirror_mode": {
    "name": "ipython",
    "version": 3
   },
   "file_extension": ".py",
   "mimetype": "text/x-python",
   "name": "python",
   "nbconvert_exporter": "python",
   "pygments_lexer": "ipython3",
   "version": "3.10.5"
  },
  "orig_nbformat": 4,
  "vscode": {
   "interpreter": {
    "hash": "0831c9a8f38bf0534c50bfaa0f7ad63ee7d3a6b807ce61f39252cf011aaed1cf"
   }
  }
 },
 "nbformat": 4,
 "nbformat_minor": 2
}
