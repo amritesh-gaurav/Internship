{
 "cells": [
  {
   "cell_type": "markdown",
   "id": "dd857821",
   "metadata": {},
   "source": [
    "## Video-2-Frames"
   ]
  },
  {
   "cell_type": "code",
   "execution_count": 10,
   "id": "2f9a1e22",
   "metadata": {},
   "outputs": [
    {
     "name": "stdout",
     "output_type": "stream",
     "text": [
      "108\n"
     ]
    }
   ],
   "source": [
    "# Program To Read video\n",
    "# and Extract Frames\n",
    "import cv2\n",
    "import os\n",
    "\n",
    "\n",
    "# Path to video file\n",
    "vid = cv2.VideoCapture(\"./Material/testVideo_3s.mp4\")\n",
    "\n",
    "# Used as counter variable\n",
    "count = 0\n",
    "\n",
    "# checks whether frames were extracted\n",
    "success = 1\n",
    "\n",
    "while success:\n",
    "\t# function to extract frames\n",
    "\tsuccess, image = vid.read()\n",
    "\tif not success:\n",
    "\t\tbreak\n",
    "\t# Saves the frames with frame-count\n",
    "\tcv2.imwrite('./Video-2-Frames/frame%d.jpg' % count, image)\n",
    "\n",
    "\tcount += 1\n",
    "\n",
    "print(count)\n"
   ]
  }
 ],
 "metadata": {
  "kernelspec": {
   "display_name": "Python 3 (ipykernel)",
   "language": "python",
   "name": "python3"
  },
  "language_info": {
   "codemirror_mode": {
    "name": "ipython",
    "version": 3
   },
   "file_extension": ".py",
   "mimetype": "text/x-python",
   "name": "python",
   "nbconvert_exporter": "python",
   "pygments_lexer": "ipython3",
   "version": "3.10.4"
  }
 },
 "nbformat": 4,
 "nbformat_minor": 5
}
