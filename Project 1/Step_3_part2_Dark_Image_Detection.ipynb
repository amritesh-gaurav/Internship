{
 "cells": [
  {
   "cell_type": "markdown",
   "id": "d4217268",
   "metadata": {},
   "source": [
    "## Dark Image Detection"
   ]
  },
  {
   "cell_type": "code",
   "execution_count": null,
   "id": "fac5b9c5",
   "metadata": {},
   "outputs": [],
   "source": [
    "import imageio.v2 as imageio\n",
    "import numpy as np\n",
    "for j in range(5):\n",
    "    for i in range(9):\n",
    "        f = imageio.imread('Split/face'+f'_{j}_{i}.jpg', as_gray=True)\n",
    "        def img_estim(img, thrshld):\n",
    "            is_light = np.mean(img) > thrshld\n",
    "            print(j,i)\n",
    "            return 'Light' if is_light else 'Dark'\n",
    "        print(img_estim(f, 70))\n",
    "        print()"
   ]
  }
 ],
 "metadata": {
  "kernelspec": {
   "display_name": "Python 3 (ipykernel)",
   "language": "python",
   "name": "python3"
  },
  "language_info": {
   "codemirror_mode": {
    "name": "ipython",
    "version": 3
   },
   "file_extension": ".py",
   "mimetype": "text/x-python",
   "name": "python",
   "nbconvert_exporter": "python",
   "pygments_lexer": "ipython3",
   "version": "3.10.4"
  }
 },
 "nbformat": 4,
 "nbformat_minor": 5
}
