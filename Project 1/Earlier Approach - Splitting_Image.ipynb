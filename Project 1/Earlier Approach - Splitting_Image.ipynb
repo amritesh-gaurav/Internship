{
 "cells": [
  {
   "cell_type": "markdown",
   "id": "ff862762",
   "metadata": {},
   "source": [
    "### SPLITTING IMAGES FOR REAL CAPTURE DETECTION"
   ]
  },
  {
   "cell_type": "code",
   "execution_count": 1,
   "id": "3497b838",
   "metadata": {},
   "outputs": [],
   "source": [
    "import cv2\n",
    "from retinaface import RetinaFace\n",
    "\n",
    "img = cv2.imread('2.jpg')\n",
    "\n",
    "# cv2.imread() -> takes an image as an input\n",
    "h, w, channels = img.shape\n",
    "\n",
    "#this is the height specified for each split image\n",
    "h_s = 160\n",
    "h_s2 = 113\n",
    "# this is the width specified for each split image\n",
    "w_s = 142\n",
    "w_s2 = 250\n",
    "w_s3 = 195\n",
    "#row1\n",
    "for j in range(5):\n",
    "    if j==0:\n",
    "        m=0\n",
    "        n=0\n",
    "    else:\n",
    "        m=1\n",
    "        n=j-1\n",
    "    for i in range(9):\n",
    "        part1 = img[(m*h_s)+(n*h_s2):h_s+(j*h_s2), (i*w_s):(i+1)*w_s]\n",
    "        cv2.imshow('part1', part1)\n",
    "        cv2.imwrite(\"Split/face\"+f'_{j}_{i}.jpg',part1)\n",
    "        cv2.waitKey(0)\n",
    "for k in range(4):\n",
    "    last_row = img[h_s+4*h_s2:h_s+5*h_s2, w_s2+(k*w_s3):w_s2+(k+1)*w_s3]\n",
    "    cv2.imshow('last row', last_row)\n",
    "    cv2.imwrite(\"Split/face\"+f'_5_{k}.jpg',last_row)\n",
    "    cv2.waitKey(0)\n",
    "\n",
    "# In this approach, we tried to split each frame into different pieces based on the height\n",
    "# and width specified for each split"
   ]
  },
  {
   "cell_type": "markdown",
   "id": "7dd6aeb2",
   "metadata": {},
   "source": [
    "#### CODE FOR FACE DETECTION OF THE SPLITTED IMAGES"
   ]
  },
  {
   "cell_type": "code",
   "execution_count": 1,
   "id": "1809da32",
   "metadata": {},
   "outputs": [],
   "source": [
    "\"\"\"\n",
    "        img_path =('Split/face'+f'_{j}_{i}.jpg')\n",
    "        detector = RetinaFace.detect_faces(img_path)\n",
    "        IM_G = cv2.imread(img_path)\n",
    "        \n",
    "        facial_area = detector['face_1']['facial_area']\n",
    "        cv2.rectangle(IM_G,(facial_area[2],facial_area[3]),(facial_area[0],facial_area[1]), color = (0,0,255), thickness = 2)\n",
    "        cv2.imshow(\"result\", IM_G)\n",
    "        \"\"\"\n",
    "        \n",
    "        #detector"
   ]
  }
 ],
 "metadata": {
  "kernelspec": {
   "display_name": "Python 3 (ipykernel)",
   "language": "python",
   "name": "python3"
  },
  "language_info": {
   "codemirror_mode": {
    "name": "ipython",
    "version": 3
   },
   "file_extension": ".py",
   "mimetype": "text/x-python",
   "name": "python",
   "nbconvert_exporter": "python",
   "pygments_lexer": "ipython3",
   "version": "3.10.4"
  }
 },
 "nbformat": 4,
 "nbformat_minor": 5
}
