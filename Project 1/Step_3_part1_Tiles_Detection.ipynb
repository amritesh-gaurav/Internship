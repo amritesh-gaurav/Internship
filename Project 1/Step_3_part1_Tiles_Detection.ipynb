{
 "cells": [
  {
   "cell_type": "markdown",
   "id": "3b866699",
   "metadata": {},
   "source": [
    "# Capture Detection"
   ]
  },
  {
   "cell_type": "markdown",
   "id": "c29ff270",
   "metadata": {},
   "source": [
    "1. Installing dependencies"
   ]
  },
  {
   "cell_type": "code",
   "execution_count": null,
   "id": "89f7c587",
   "metadata": {},
   "outputs": [],
   "source": [
    "#pip install opencv-python"
   ]
  },
  {
   "cell_type": "code",
   "execution_count": null,
   "id": "03010daf",
   "metadata": {},
   "outputs": [],
   "source": [
    "#pip install scikit-image"
   ]
  },
  {
   "cell_type": "code",
   "execution_count": null,
   "id": "4c34d3c0",
   "metadata": {},
   "outputs": [],
   "source": [
    "#pip install pillow"
   ]
  },
  {
   "cell_type": "code",
   "execution_count": null,
   "id": "092efe14",
   "metadata": {},
   "outputs": [],
   "source": [
    "#pip install pixellib"
   ]
  },
  {
   "cell_type": "code",
   "execution_count": null,
   "id": "ace3a51d",
   "metadata": {},
   "outputs": [],
   "source": [
    "#pip install tensorflow-gpu"
   ]
  },
  {
   "cell_type": "code",
   "execution_count": null,
   "id": "a90f11a8",
   "metadata": {},
   "outputs": [],
   "source": [
    "import cv2\n",
    "import pixellib\n",
    "import matplotlib.pyplot as plt\n",
    "from pixellib.instance import instance_segmentation"
   ]
  },
  {
   "cell_type": "code",
   "execution_count": null,
   "id": "f332e831",
   "metadata": {},
   "outputs": [],
   "source": [
    "segment_image = instance_segmentation()\n",
    "segment_image.load_model(\"./Material/Stuff/mask_rcnn_coco.h5\")\n",
    "instance = cv2.VideoCapture(\"./Material/testVideo_3s.mp4\")"
   ]
  },
  {
   "cell_type": "code",
   "execution_count": null,
   "id": "1eddfd10",
   "metadata": {},
   "outputs": [],
   "source": [
    "success = 1\n",
    "while success:\n",
    "    success,frame = instance.read()\n",
    "    if not success:\n",
    "        break\n",
    "    result = segment_image.segmentFrame(frame,show_bboxes=True)\n",
    "    image = result[1]\n",
    "    cv2.imshow('Im',image)\n",
    "print(\"Capture-Over\")"
   ]
  }
 ],
 "metadata": {
  "kernelspec": {
   "display_name": "Python 3 (ipykernel)",
   "language": "python",
   "name": "python3"
  },
  "language_info": {
   "codemirror_mode": {
    "name": "ipython",
    "version": 3
   },
   "file_extension": ".py",
   "mimetype": "text/x-python",
   "name": "python",
   "nbconvert_exporter": "python",
   "pygments_lexer": "ipython3",
   "version": "3.10.4"
  }
 },
 "nbformat": 4,
 "nbformat_minor": 5
}
