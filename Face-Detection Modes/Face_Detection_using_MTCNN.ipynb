{
 "cells": [
  {
   "cell_type": "markdown",
   "id": "3d9b2c78",
   "metadata": {},
   "source": [
    "# Face Detection using MTCNN"
   ]
  },
  {
   "cell_type": "code",
   "execution_count": null,
   "id": "5f457190-7ab6-44bd-a364-4b1e73525b4a",
   "metadata": {},
   "outputs": [],
   "source": [
    "from mtcnn import MTCNN\n",
    "import cv2"
   ]
  },
  {
   "cell_type": "markdown",
   "id": "5d4b6471",
   "metadata": {},
   "source": [
    "### INITIALISING DETECTOR"
   ]
  },
  {
   "cell_type": "code",
   "execution_count": null,
   "id": "db85b205",
   "metadata": {},
   "outputs": [],
   "source": [
    "detector = MTCNN()\n",
    "img = cv2.imread('1.jpg')\n",
    "output = detector.detect_faces(img)\n",
    "print (output)"
   ]
  },
  {
   "cell_type": "markdown",
   "id": "ec458e5f",
   "metadata": {},
   "source": [
    "### CREATING CRICLES AT FACIAL LANDMARKS AND BOUNDING BOX AROUND THE FACE"
   ]
  },
  {
   "cell_type": "code",
   "execution_count": null,
   "id": "5cb4c1db",
   "metadata": {},
   "outputs": [],
   "source": [
    "for i in output:\n",
    "    x,y,width,height = i['box']\n",
    "    le_x,le_y = i['keypoints']['left_eye']\n",
    "    re_x,re_y = i['keypoints']['right_eye']\n",
    "    n_x,n_y = i['keypoints']['nose']\n",
    "    ml_x,ml_y = i['keypoints']['mouth_left']\n",
    "    mr_x,mr_y = i['keypoints']['mouth_right']\n",
    "    \n",
    "    cv2.circle(img, center=(le_x,le_y), color=(0,255,0), thickness=2, radius=1)\n",
    "    cv2.circle(img, center=(re_x,re_y), color=(0,255,0), thickness=2, radius=1)\n",
    "    cv2.circle(img, center=(n_x,n_y), color=(0,255,0), thickness=2, radius=1)\n",
    "    cv2.circle(img, center=(ml_x,ml_y), color=(0,255,0), thickness=2, radius=1)\n",
    "    cv2.circle(img, center=(mr_x,mr_y), color=(0,255,0), thickness=2, radius=1)\n",
    "    cv2.rectangle(img, pt1=(x,y), pt2=(x+width,y+height), color=(0,0,255), thickness=1)\n",
    "\n",
    "cv2.imshow('result',img)\n",
    "cv2.waitKey(0)"
   ]
  }
 ],
 "metadata": {
  "kernelspec": {
   "display_name": "Python 3 (ipykernel)",
   "language": "python",
   "name": "python3"
  },
  "language_info": {
   "codemirror_mode": {
    "name": "ipython",
    "version": 3
   },
   "file_extension": ".py",
   "mimetype": "text/x-python",
   "name": "python",
   "nbconvert_exporter": "python",
   "pygments_lexer": "ipython3",
   "version": "3.10.4"
  }
 },
 "nbformat": 4,
 "nbformat_minor": 5
}
