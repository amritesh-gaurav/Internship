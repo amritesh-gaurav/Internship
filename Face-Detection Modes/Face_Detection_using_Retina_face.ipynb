{
 "cells": [
  {
   "cell_type": "markdown",
   "id": "f6556916",
   "metadata": {},
   "source": [
    "# FACE DETECTION USING RETINA FACE"
   ]
  },
  {
   "cell_type": "code",
   "execution_count": null,
   "id": "51be76d9",
   "metadata": {},
   "outputs": [],
   "source": [
    "from retinaface import RetinaFace\n",
    "import cv2\n",
    "import matplotlib.pyplot as plt"
   ]
  },
  {
   "cell_type": "markdown",
   "id": "160131f2",
   "metadata": {},
   "source": [
    "### INTIALISING DETECTOR"
   ]
  },
  {
   "cell_type": "code",
   "execution_count": null,
   "id": "9879c93f",
   "metadata": {},
   "outputs": [],
   "source": [
    "img_path ='1.jpg'\n",
    "img = cv2.imread(img_path)"
   ]
  },
  {
   "cell_type": "code",
   "execution_count": null,
   "id": "82fb26ce",
   "metadata": {},
   "outputs": [],
   "source": [
    "detector = RetinaFace.detect_faces(img_path)"
   ]
  },
  {
   "cell_type": "code",
   "execution_count": null,
   "id": "12d4d444",
   "metadata": {},
   "outputs": [],
   "source": [
    "detector"
   ]
  },
  {
   "cell_type": "code",
   "execution_count": null,
   "id": "a34cdba9",
   "metadata": {},
   "outputs": [],
   "source": [
    "detector.keys()"
   ]
  },
  {
   "cell_type": "code",
   "execution_count": null,
   "id": "f86488ed",
   "metadata": {},
   "outputs": [],
   "source": [
    "len(detector.keys())"
   ]
  },
  {
   "cell_type": "markdown",
   "id": "9e45d0a2",
   "metadata": {},
   "source": [
    "### MARKING FACIAL LANDMARKS AND PLOTTING THE BOUNDING BOX AROUND FACE"
   ]
  },
  {
   "cell_type": "code",
   "execution_count": null,
   "id": "4ef44213",
   "metadata": {},
   "outputs": [],
   "source": [
    "for key in detector.keys():\n",
    "    identity = detector[key]\n",
    "    #print(identity)\n",
    "    facial_area = identity[\"facial_area\"]\n",
    "    cv2.rectangle(img,(facial_area[2],facial_area[3]),(facial_area[0],facial_area[1]), color = (0,0,255), thickness = 2)"
   ]
  },
  {
   "cell_type": "code",
   "execution_count": null,
   "id": "47e5f482",
   "metadata": {},
   "outputs": [],
   "source": [
    "plt.figure(figsize = (40,40))\n",
    "plt.imshow(img[:,:,::-1])\n",
    "plt.show()"
   ]
  }
 ],
 "metadata": {
  "kernelspec": {
   "display_name": "Python 3 (ipykernel)",
   "language": "python",
   "name": "python3"
  },
  "language_info": {
   "codemirror_mode": {
    "name": "ipython",
    "version": 3
   },
   "file_extension": ".py",
   "mimetype": "text/x-python",
   "name": "python",
   "nbconvert_exporter": "python",
   "pygments_lexer": "ipython3",
   "version": "3.10.4"
  }
 },
 "nbformat": 4,
 "nbformat_minor": 5
}
